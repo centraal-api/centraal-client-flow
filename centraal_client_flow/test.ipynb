{
 "cells": [
  {
   "cell_type": "markdown",
   "metadata": {},
   "source": [
    "Creacion de eventos"
   ]
  },
  {
   "cell_type": "code",
   "execution_count": null,
   "metadata": {},
   "outputs": [],
   "source": [
    "from centraal_client_flow.events.timer import TimerBase\n",
    "\n",
    "def custom_extract_data():\n",
    "    # Lógica específica para extracción de datos\n",
    "    return {\"key\": \"value\"}\n",
    "\n",
    "def custom_determine_session_id(event_data):\n",
    "    # Lógica específica para determinar el session ID\n",
    "    return \"custom_session_id\""
   ]
  },
  {
   "cell_type": "code",
   "execution_count": null,
   "metadata": {},
   "outputs": [],
   "source": [
    "schedule = \"0 */5 * * * *\"  # Cada 5 minutos\n",
    "queue_name = \"example_queue\"\n",
    "connection_str = \"your_connection_string\"\n",
    "\n",
    "timer = TimerBase(\n",
    "    schedule=schedule, queue_name=queue_name, connection_str=connection_str\n",
    ")\n",
    "bp = timer.create_blueprint(\n",
    "    extract_data=custom_extract_data, determine_session_id=custom_determine_session_id\n",
    ")"
   ]
  },
  {
   "cell_type": "code",
   "execution_count": null,
   "metadata": {},
   "outputs": [],
   "source": [
    "from centraal_client_flow.events.receiver import ReceiverBase, HttpRequest, HttpResponse\n",
    "\n",
    "\n",
    "def custom_process_event(event_data):\n",
    "    # Lógica específica para este evento\n",
    "    event_data[\"processed\"] = True\n",
    "\n",
    "\n",
    "def custom_validate_event(req: HttpRequest):\n",
    "    # Validación específica para este evento\n",
    "    if not req.get_json():\n",
    "        return HttpResponse(\"Invalid event data\", status_code=400)\n",
    "    return None\n",
    "\n",
    "\n",
    "def custom_log_event(req: HttpRequest):\n",
    "    # Logging específico para este evento\n",
    "    print(f\"Custom log: {req.get_json()}\")\n",
    "\n",
    "\n",
    "# Crear la instancia de ReceiverBase\n",
    "event_source = \"example_source\"\n",
    "queue_name = \"example_queue\"\n",
    "connection_str = \"your_connection_string\"\n",
    "\n",
    "receiver = ReceiverBase(\n",
    "    event_source=event_source, queue_name=queue_name, connection_str=connection_str\n",
    ")\n",
    "bp = receiver.create_blueprint(\n",
    "    process_event=custom_process_event,\n",
    "    validate_event=custom_validate_event,\n",
    "    log_event=custom_log_event,\n",
    ")\n",
    "\n",
    "# Al finalizar, cerrar la conexión del Singleton\n",
    "receiver.close()"
   ]
  },
  {
   "cell_type": "markdown",
   "metadata": {},
   "source": [
    "Definiciones de reglas de procesamiento"
   ]
  },
  {
   "cell_type": "code",
   "execution_count": null,
   "metadata": {},
   "outputs": [],
   "source": [
    "from centraal_client_flow.rules.update.processor import ProcessorBase\n",
    "\n",
    "def custom_process_message(data):\n",
    "    # Lógica específica para el procesamiento del mensaje\n",
    "    processed_data = {\"id\": \"1\", \"name\": data}\n",
    "    return processed_data\n",
    "\n",
    "def custom_prepare_output(processed_data):\n",
    "    # Lógica específica para preparar la salida (por ejemplo, agregar metadata)\n",
    "    processed_data[\"metadata\"] = \"additional information\"\n",
    "    return processed_data\n",
    "\n",
    "def custom_post_process(processed_data):\n",
    "    # Lógica específica después del procesamiento\n",
    "    print(f\"Post-process: {processed_data}\")\n",
    "\n",
    "queue_name = \"example_queue\"\n",
    "connection_str = \"your_connection_string\"\n",
    "topic_names = [\"example_topic_1\", \"example_topic_2\"]\n",
    "cosmos_container_name = \"your_container_name\"\n",
    "\n",
    "processor = ProcessorBase(queue_name=queue_name, connection_str=connection_str, topic_names=topic_names, cosmos_container_name=cosmos_container_name)\n",
    "bp = processor.create_blueprint(process_message=custom_process_message, prepare_output=custom_prepare_output, post_process=custom_post_process)\n",
    "\n",
    "# Al finalizar, cerrar la conexión del Singleton\n",
    "processor.close()\n"
   ]
  },
  {
   "cell_type": "markdown",
   "metadata": {},
   "source": [
    "Reglas de integración"
   ]
  },
  {
   "cell_type": "code",
   "execution_count": null,
   "metadata": {},
   "outputs": [],
   "source": [
    "from centraal_client_flow.rules.integration.processor import IntegrationBase\n",
    "from centraal_client_flow.rules.integration.strategy import RESTIntegration\n",
    "\n",
    "\n",
    "def custom_post_integration(message_body):\n",
    "    # Lógica específica después de la integración\n",
    "    print(f\"Post-integration: {message_body}\")\n",
    "\n",
    "\n",
    "integration = IntegrationBase(\n",
    "    topic_name=\"example_topic\",\n",
    "    connection_str=\"your_connection_string\",\n",
    "    subscription_name=\"example_subscription\",\n",
    ")\n",
    "bp = integration.create_blueprint(\n",
    "    integration_strategy=RESTIntegration(), post_integration=custom_post_integration\n",
    ")"
   ]
  }
 ],
 "metadata": {
  "kernelspec": {
   "display_name": ".venv",
   "language": "python",
   "name": "python3"
  },
  "language_info": {
   "name": "python",
   "version": "3.11.9"
  }
 },
 "nbformat": 4,
 "nbformat_minor": 2
}
