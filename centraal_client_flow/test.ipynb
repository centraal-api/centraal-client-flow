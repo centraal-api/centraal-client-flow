{
 "cells": [
  {
   "cell_type": "code",
   "execution_count": 2,
   "metadata": {},
   "outputs": [],
   "source": [
    "from pydantic import BaseModel, model_serializer"
   ]
  },
  {
   "cell_type": "code",
   "execution_count": 3,
   "metadata": {},
   "outputs": [],
   "source": [
    "from centraal_client_flow.models.schemas import EntradaEsquemaUnificado, IDModel\n",
    "from typing import List\n",
    "\n",
    "class Venta(BaseModel):\n",
    "    identificador: str\n",
    "    producto: str\n",
    "\n",
    "\n",
    "class Ventas(BaseModel):\n",
    "    ventas: List[Venta]\n",
    "\n",
    "class ClienteHacebID(IDModel):\n",
    "    clase_doc : int\n",
    "    num_doc: int\n",
    "\n",
    "    @model_serializer\n",
    "    def serialize_as_str(self) -> str:\n",
    "        \"\"\"Metodo para serializar el id.\"\"\"\n",
    "        return f\"{self.clase_doc}{self.separator}{self.num_doc}\"\n",
    "\n",
    "class Maestra(BaseModel):\n",
    "    cdc: str\n",
    "    ciuidad: str\n",
    "\n",
    "class ClienteHaceb(EntradaEsquemaUnificado):\n",
    "\n",
    "    id: ClienteHacebID\n",
    "    venta: Ventas\n",
    "    maestra: Maestra\n",
    " \n",
    "\n"
   ]
  },
  {
   "cell_type": "code",
   "execution_count": 4,
   "metadata": {},
   "outputs": [],
   "source": [
    "import json\n",
    "from typing import Type, List, Tuple, Optional, Any\n",
    "from abc import ABC, abstractmethod\n",
    "\n",
    "from azure.functions import Blueprint, ServiceBusMessage\n",
    "from azure.servicebus import ServiceBusMessage as SBMessage\n",
    "from pydantic import BaseModel, ValidationError\n",
    "\n",
    "from centraal_client_flow.connections.cosmosdb import CosmosDBSingleton\n",
    "from centraal_client_flow.connections.service_bus import IServiceBusClient\n",
    "from centraal_client_flow.models.schemas import (\n",
    "    EntradaEsquemaUnificado,\n",
    "    IDModel,\n",
    "    EventoBase,\n",
    "    AuditoriaEntry,\n",
    ")"
   ]
  },
  {
   "cell_type": "code",
   "execution_count": 29,
   "metadata": {},
   "outputs": [],
   "source": [
    "topics = {\"root\", \"venta\", \"maestr\"}"
   ]
  },
  {
   "cell_type": "code",
   "execution_count": 31,
   "metadata": {},
   "outputs": [
    {
     "ename": "ValueError",
     "evalue": "El topic maestr debe corresponder a un subesquema {'venta', 'maestra', 'id'}",
     "output_type": "error",
     "traceback": [
      "\u001b[0;31m---------------------------------------------------------------------------\u001b[0m",
      "\u001b[0;31mValueError\u001b[0m                                Traceback (most recent call last)",
      "Cell \u001b[0;32mIn[31], line 6\u001b[0m\n\u001b[1;32m      4\u001b[0m     \u001b[38;5;28;01mpass\u001b[39;00m\n\u001b[1;32m      5\u001b[0m \u001b[38;5;28;01melif\u001b[39;00m t \u001b[38;5;129;01mnot\u001b[39;00m \u001b[38;5;129;01min\u001b[39;00m s:\n\u001b[0;32m----> 6\u001b[0m     \u001b[38;5;28;01mraise\u001b[39;00m \u001b[38;5;167;01mValueError\u001b[39;00m(\u001b[38;5;124mf\u001b[39m\u001b[38;5;124m\"\u001b[39m\u001b[38;5;124mEl topic \u001b[39m\u001b[38;5;132;01m{\u001b[39;00mt\u001b[38;5;132;01m}\u001b[39;00m\u001b[38;5;124m debe corresponder a un subesquema \u001b[39m\u001b[38;5;132;01m{\u001b[39;00ms\u001b[38;5;132;01m}\u001b[39;00m\u001b[38;5;124m\"\u001b[39m)\n",
      "\u001b[0;31mValueError\u001b[0m: El topic maestr debe corresponder a un subesquema {'venta', 'maestra', 'id'}"
     ]
    }
   ],
   "source": [
    "s  =set( ClienteHaceb.model_fields)\n",
    "for t in topics:\n",
    "    if t == \"root\":\n",
    "        pass\n",
    "    elif t not in s:\n",
    "        raise ValueError(f\"El topic {t} debe corresponder a un subesquema {s}\")"
   ]
  },
  {
   "cell_type": "code",
   "execution_count": 18,
   "metadata": {},
   "outputs": [
    {
     "data": {
      "text/plain": [
       "False"
      ]
     },
     "execution_count": 18,
     "metadata": {},
     "output_type": "execute_result"
    }
   ],
   "source": [
    "topics.issubset(s)"
   ]
  },
  {
   "cell_type": "code",
   "execution_count": 26,
   "metadata": {},
   "outputs": [],
   "source": [
    "cliente = ClienteHaceb.model_validate(\n",
    "    {\n",
    "        \"id\": {\"clase_doc\": 23, \"num_doc\": 1032446156},\n",
    "        \"venta\": {\"ventas\": [{\"identificador\": \"venta-1\", \"producto\": \"prod123\"}]},\n",
    "        \"maestra\" : {\"cdc\": \"si\", \"ciuidad\":\"rionegro\"}\n",
    "    }\n",
    ")"
   ]
  },
  {
   "cell_type": "code",
   "execution_count": 27,
   "metadata": {},
   "outputs": [],
   "source": [
    "new_cliente = ClienteHaceb.model_validate(\n",
    "    {\n",
    "        \"id\": {\"clase_doc\": 23, \"num_doc\": 1032446156},\n",
    "        \"venta\": {\"ventas\": [{\"identificador\": \"venta-1\", \"producto\": \"prod123\"}, {\"identificador\": \"venta-2\", \"producto\": \"prod124\"}]},\n",
    "        \"maestra\" : {\"cdc\": \"no\", \"ciuidad\":\"rionegro\"}\n",
    "    }\n",
    ")"
   ]
  },
  {
   "cell_type": "code",
   "execution_count": 29,
   "metadata": {},
   "outputs": [],
   "source": [
    "current_data = None\n",
    "updated_data = cliente"
   ]
  },
  {
   "cell_type": "code",
   "execution_count": 30,
   "metadata": {},
   "outputs": [],
   "source": []
  },
  {
   "cell_type": "code",
   "execution_count": 32,
   "metadata": {},
   "outputs": [
    {
     "data": {
      "text/plain": [
       "[{'subesquema': 'venta',\n",
       "  'campo': 'ventas',\n",
       "  'new_value': [{'identificador': 'venta-1', 'producto': 'prod123'}],\n",
       "  'old_value': None,\n",
       "  'fecha_evento': '2024-08-16T03:04:43.884759Z'},\n",
       " {'subesquema': 'id',\n",
       "  'campo': 'id',\n",
       "  'new_value': '23-1032446156',\n",
       "  'old_value': None,\n",
       "  'fecha_evento': '2024-08-16T03:04:43.884776Z'},\n",
       " {'subesquema': 'maestra',\n",
       "  'campo': 'ciuidad',\n",
       "  'new_value': 'rionegro',\n",
       "  'old_value': None,\n",
       "  'fecha_evento': '2024-08-16T03:04:43.884781Z'},\n",
       " {'subesquema': 'maestra',\n",
       "  'campo': 'cdc',\n",
       "  'new_value': 'si',\n",
       "  'old_value': None,\n",
       "  'fecha_evento': '2024-08-16T03:04:43.884784Z'}]"
      ]
     },
     "execution_count": 32,
     "metadata": {},
     "output_type": "execute_result"
    }
   ],
   "source": [
    "[c.model_dump(mode=\"json\") for c in detect_changes(None, cliente)]"
   ]
  },
  {
   "cell_type": "code",
   "execution_count": 33,
   "metadata": {},
   "outputs": [
    {
     "data": {
      "text/plain": [
       "[{'subesquema': 'venta',\n",
       "  'campo': 'ventas',\n",
       "  'new_value': [{'identificador': 'venta-1', 'producto': 'prod123'},\n",
       "   {'identificador': 'venta-2', 'producto': 'prod124'}],\n",
       "  'old_value': [{'identificador': 'venta-1', 'producto': 'prod123'}],\n",
       "  'fecha_evento': '2024-08-16T03:04:57.684827Z'},\n",
       " {'subesquema': 'maestra',\n",
       "  'campo': 'cdc',\n",
       "  'new_value': 'no',\n",
       "  'old_value': 'si',\n",
       "  'fecha_evento': '2024-08-16T03:04:57.684848Z'}]"
      ]
     },
     "execution_count": 33,
     "metadata": {},
     "output_type": "execute_result"
    }
   ],
   "source": [
    "[c.model_dump(mode=\"json\") for c in detect_changes(cliente, new_cliente)]"
   ]
  },
  {
   "cell_type": "markdown",
   "metadata": {},
   "source": [
    "Creacion de eventos"
   ]
  },
  {
   "cell_type": "code",
   "execution_count": null,
   "metadata": {},
   "outputs": [],
   "source": [
    "from centraal_client_flow.events.timer import TimerBase\n",
    "\n",
    "def custom_extract_data():\n",
    "    # Lógica específica para extracción de datos\n",
    "    return {\"key\": \"value\"}\n",
    "\n",
    "def custom_determine_session_id(event_data):\n",
    "    # Lógica específica para determinar el session ID\n",
    "    return \"custom_session_id\""
   ]
  },
  {
   "cell_type": "code",
   "execution_count": null,
   "metadata": {},
   "outputs": [],
   "source": [
    "schedule = \"0 */5 * * * *\"  # Cada 5 minutos\n",
    "queue_name = \"example_queue\"\n",
    "connection_str = \"your_connection_string\"\n",
    "\n",
    "timer = TimerBase(\n",
    "    schedule=schedule, queue_name=queue_name, connection_str=connection_str\n",
    ")\n",
    "bp = timer.create_blueprint(\n",
    "    extract_data=custom_extract_data, determine_session_id=custom_determine_session_id\n",
    ")"
   ]
  },
  {
   "cell_type": "code",
   "execution_count": null,
   "metadata": {},
   "outputs": [],
   "source": [
    "from centraal_client_flow.events.receiver import ReceiverBase, HttpRequest, HttpResponse\n",
    "\n",
    "\n",
    "def custom_process_event(event_data):\n",
    "    # Lógica específica para este evento\n",
    "    event_data[\"processed\"] = True\n",
    "\n",
    "\n",
    "def custom_validate_event(req: HttpRequest):\n",
    "    # Validación específica para este evento\n",
    "    if not req.get_json():\n",
    "        return HttpResponse(\"Invalid event data\", status_code=400)\n",
    "    return None\n",
    "\n",
    "\n",
    "def custom_log_event(req: HttpRequest):\n",
    "    # Logging específico para este evento\n",
    "    print(f\"Custom log: {req.get_json()}\")\n",
    "\n",
    "\n",
    "# Crear la instancia de ReceiverBase\n",
    "event_source = \"example_source\"\n",
    "queue_name = \"example_queue\"\n",
    "connection_str = \"your_connection_string\"\n",
    "\n",
    "receiver = ReceiverBase(\n",
    "    event_source=event_source, queue_name=queue_name, connection_str=connection_str\n",
    ")\n",
    "bp = receiver.create_blueprint(\n",
    "    process_event=custom_process_event,\n",
    "    validate_event=custom_validate_event,\n",
    "    log_event=custom_log_event,\n",
    ")\n",
    "\n",
    "# Al finalizar, cerrar la conexión del Singleton\n",
    "receiver.close()"
   ]
  },
  {
   "cell_type": "markdown",
   "metadata": {},
   "source": [
    "Definiciones de reglas de procesamiento"
   ]
  },
  {
   "cell_type": "code",
   "execution_count": null,
   "metadata": {},
   "outputs": [],
   "source": [
    "from centraal_client_flow.rules.update.processor import ProcessorBase\n",
    "\n",
    "def custom_process_message(data):\n",
    "    # Lógica específica para el procesamiento del mensaje\n",
    "    processed_data = {\"id\": \"1\", \"name\": data}\n",
    "    return processed_data\n",
    "\n",
    "def custom_prepare_output(processed_data):\n",
    "    # Lógica específica para preparar la salida (por ejemplo, agregar metadata)\n",
    "    processed_data[\"metadata\"] = \"additional information\"\n",
    "    return processed_data\n",
    "\n",
    "def custom_post_process(processed_data):\n",
    "    # Lógica específica después del procesamiento\n",
    "    print(f\"Post-process: {processed_data}\")\n",
    "\n",
    "queue_name = \"example_queue\"\n",
    "connection_str = \"your_connection_string\"\n",
    "topic_names = [\"example_topic_1\", \"example_topic_2\"]\n",
    "cosmos_container_name = \"your_container_name\"\n",
    "\n",
    "processor = ProcessorBase(queue_name=queue_name, connection_str=connection_str, topic_names=topic_names, cosmos_container_name=cosmos_container_name)\n",
    "bp = processor.create_blueprint(process_message=custom_process_message, prepare_output=custom_prepare_output, post_process=custom_post_process)\n",
    "\n",
    "# Al finalizar, cerrar la conexión del Singleton\n",
    "processor.close()\n"
   ]
  },
  {
   "cell_type": "markdown",
   "metadata": {},
   "source": [
    "Reglas de integración"
   ]
  },
  {
   "cell_type": "code",
   "execution_count": null,
   "metadata": {},
   "outputs": [],
   "source": [
    "from centraal_client_flow.rules.integration.processor import IntegrationBase\n",
    "from centraal_client_flow.rules.integration.strategy import RESTIntegration\n",
    "\n",
    "\n",
    "def custom_post_integration(message_body):\n",
    "    # Lógica específica después de la integración\n",
    "    print(f\"Post-integration: {message_body}\")\n",
    "\n",
    "\n",
    "integration = IntegrationBase(\n",
    "    topic_name=\"example_topic\",\n",
    "    connection_str=\"your_connection_string\",\n",
    "    subscription_name=\"example_subscription\",\n",
    ")\n",
    "bp = integration.create_blueprint(\n",
    "    integration_strategy=RESTIntegration(), post_integration=custom_post_integration\n",
    ")"
   ]
  }
 ],
 "metadata": {
  "kernelspec": {
   "display_name": ".venv",
   "language": "python",
   "name": "python3"
  },
  "language_info": {
   "codemirror_mode": {
    "name": "ipython",
    "version": 3
   },
   "file_extension": ".py",
   "mimetype": "text/x-python",
   "name": "python",
   "nbconvert_exporter": "python",
   "pygments_lexer": "ipython3",
   "version": "3.11.9"
  }
 },
 "nbformat": 4,
 "nbformat_minor": 2
}
